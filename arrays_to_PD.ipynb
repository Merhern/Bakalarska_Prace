{
 "cells": [
  {
   "cell_type": "code",
   "execution_count": 1,
   "id": "9e131dba-3db0-4251-af3a-f59f4f864b56",
   "metadata": {},
   "outputs": [
    {
     "name": "stdout",
     "output_type": "stream",
     "text": [
      "  Písmena\n",
      "0       A\n",
      "1       B\n",
      "2       C\n",
      "3       D\n"
     ]
    }
   ],
   "source": [
    "import pandas as pd\n",
    "data = [\"A\", \"B\", \"C\", \"D\"]\n",
    "df = pd.DataFrame(data, columns=['Písmena'])\n",
    "print(df.head())"
   ]
  },
  {
   "cell_type": "code",
   "execution_count": 2,
   "id": "cdd61ff9-a1bf-4813-80c5-487d5d5fef61",
   "metadata": {},
   "outputs": [
    {
     "name": "stdout",
     "output_type": "stream",
     "text": [
      "   Čísla    Písmena\n",
      "0      1  [A, B, C]\n",
      "1      2          B\n",
      "2      3          C\n"
     ]
    }
   ],
   "source": [
    "data2D = [[1, ['A', 'B', 'C']], [2, 'B'], [3, 'C']]\n",
    "df = pd.DataFrame(data2D, columns=['Čísla', 'Písmena'])\n",
    "print(df.head())"
   ]
  },
  {
   "cell_type": "code",
   "execution_count": null,
   "id": "035c0926-f9de-4d84-90cf-caa16c676b17",
   "metadata": {},
   "outputs": [],
   "source": []
  }
 ],
 "metadata": {
  "kernelspec": {
   "display_name": "Python 3 (ipykernel)",
   "language": "python",
   "name": "python3"
  },
  "language_info": {
   "codemirror_mode": {
    "name": "ipython",
    "version": 3
   },
   "file_extension": ".py",
   "mimetype": "text/x-python",
   "name": "python",
   "nbconvert_exporter": "python",
   "pygments_lexer": "ipython3",
   "version": "3.10.6"
  }
 },
 "nbformat": 4,
 "nbformat_minor": 5
}
