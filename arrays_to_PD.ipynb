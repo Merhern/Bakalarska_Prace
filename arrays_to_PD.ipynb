{
 "cells": [
  {
   "cell_type": "code",
   "execution_count": 24,
   "id": "9e131dba-3db0-4251-af3a-f59f4f864b56",
   "metadata": {},
   "outputs": [],
   "source": [
    "import pandas as pd\n",
    "data = [\"A\", \"B\", \"C\", \"D\"]\n",
    "df = pd.DataFrame(data, columns=['Písmena'])"
   ]
  },
  {
   "cell_type": "code",
   "execution_count": 25,
   "id": "2cf43222-8280-4e86-919d-2d27d7eee138",
   "metadata": {},
   "outputs": [
    {
     "name": "stdout",
     "output_type": "stream",
     "text": [
      "  Písmena\n",
      "0       A\n",
      "1       B\n",
      "2       C\n",
      "3       D\n"
     ]
    }
   ],
   "source": [
    "print(df.head())"
   ]
  },
  {
   "cell_type": "code",
   "execution_count": 29,
   "id": "cdd61ff9-a1bf-4813-80c5-487d5d5fef61",
   "metadata": {},
   "outputs": [],
   "source": [
    "data2D = [[1, ['A', 'B', 'C']], [2, 'B'], [3, 'C']]\n",
    "df = pd.DataFrame(data2D, columns=['Čísla', 'Písmena'])"
   ]
  },
  {
   "cell_type": "code",
   "execution_count": 35,
   "id": "6e090ba5-3c93-4610-9074-700a8d05cdcb",
   "metadata": {},
   "outputs": [
    {
     "name": "stdout",
     "output_type": "stream",
     "text": [
      "   Čísla    Písmena\n",
      "0      1  [A, B, C]\n",
      "1      2          B\n",
      "2      3          C\n"
     ]
    }
   ],
   "source": [
    "print(df.head())"
   ]
  },
  {
   "cell_type": "code",
   "execution_count": 36,
   "id": "96415f93-5140-43ad-a5b0-c779e4915a96",
   "metadata": {},
   "outputs": [
    {
     "name": "stdout",
     "output_type": "stream",
     "text": [
      "A\n",
      "B\n",
      "C\n"
     ]
    }
   ],
   "source": [
    "for x in df.loc[0, 'Písmena']:\n",
    "    print(x)"
   ]
  },
  {
   "cell_type": "code",
   "execution_count": 28,
   "id": "ed8c500e-310a-4781-bcb3-332433e39a10",
   "metadata": {},
   "outputs": [],
   "source": [
    "dataDictionary = {'Čísla': [1, 2, 3], 'Písmena': [\"A\", \"B\", \"C\"]}\n",
    "df = pd.DataFrame(dataDictionary)"
   ]
  },
  {
   "cell_type": "code",
   "execution_count": 11,
   "id": "b7ad4a57-fcdf-4536-aa94-29ff16e68a87",
   "metadata": {},
   "outputs": [
    {
     "name": "stdout",
     "output_type": "stream",
     "text": [
      "   Čísla Písmena\n",
      "0      1       A\n",
      "1      2       B\n",
      "2      3       C\n"
     ]
    }
   ],
   "source": [
    "print(df.head())"
   ]
  },
  {
   "cell_type": "code",
   "execution_count": 51,
   "id": "be850393-a050-4b3b-843f-7ed65ebe0fd6",
   "metadata": {},
   "outputs": [
    {
     "name": "stdout",
     "output_type": "stream",
     "text": [
      "int64\n"
     ]
    }
   ],
   "source": [
    "import numpy as np\n",
    "\n",
    "dataNP1 = np.array([1,2,3,4,5])\n",
    "print(dataNP1.dtype)"
   ]
  },
  {
   "cell_type": "code",
   "execution_count": 88,
   "id": "848dd041-4fd6-4077-b5e1-c74f852fd68b",
   "metadata": {},
   "outputs": [
    {
     "name": "stdout",
     "output_type": "stream",
     "text": [
      "   Čísla\n",
      "0      1\n",
      "1      2\n",
      "2      3\n",
      "3      4\n",
      "4      5\n",
      "Datový typ v sloupci je: uint8\n"
     ]
    }
   ],
   "source": [
    "dataNP1 = np.array([1,2,3,4,5], dtype='uint8')\n",
    "\n",
    "df1 = pd.DataFrame(dataNP1, columns=['Čísla'])\n",
    "print(df1.head())\n",
    "\n",
    "print('Datový typ v sloupci je: ' + str(df1['Čísla'].dtypes))"
   ]
  },
  {
   "cell_type": "code",
   "execution_count": 70,
   "id": "88d27d3d-790d-4637-8d1f-2797b87637a0",
   "metadata": {},
   "outputs": [
    {
     "name": "stdout",
     "output_type": "stream",
     "text": [
      "  name  age  weight\n",
      "0         9    81.0\n",
      "1         3    27.5\n"
     ]
    }
   ],
   "source": [
    "dataNP2 = np.array([('Rex', 9, 81.0), ('Fido', 3, 27.5)],\n",
    "             dtype=[('name', 'str_'), ('age', 'int16'), ('weight', 'float32')])\n",
    "df2 = pd.DataFrame(dataNP2)\n",
    "\n",
    "print(df2.head())"
   ]
  },
  {
   "cell_type": "code",
   "execution_count": null,
   "id": "035c0926-f9de-4d84-90cf-caa16c676b17",
   "metadata": {},
   "outputs": [],
   "source": []
  }
 ],
 "metadata": {
  "kernelspec": {
   "display_name": "Python 3 (ipykernel)",
   "language": "python",
   "name": "python3"
  },
  "language_info": {
   "codemirror_mode": {
    "name": "ipython",
    "version": 3
   },
   "file_extension": ".py",
   "mimetype": "text/x-python",
   "name": "python",
   "nbconvert_exporter": "python",
   "pygments_lexer": "ipython3",
   "version": "3.10.6"
  }
 },
 "nbformat": 4,
 "nbformat_minor": 5
}
