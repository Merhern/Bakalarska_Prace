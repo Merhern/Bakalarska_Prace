{
 "cells": [
  {
   "cell_type": "code",
   "execution_count": 1,
   "id": "834e2412-32aa-4e35-b488-ab298080e881",
   "metadata": {},
   "outputs": [
    {
     "name": "stdout",
     "output_type": "stream",
     "text": [
      "   Unnamed: 0    q2        q11   q12   q13   q14   q16   q17   q18   q20  ...  \\\n",
      "0           1  None  Horrified  None  None  None  None    No  None  None  ...   \n",
      "1           2  None       None  None  None  None  None  None  None  None  ...   \n",
      "2           3  None       None  None    No    No  None    No  None  None  ...   \n",
      "3           4  None       None  None  None  None  None  None  None  None  ...   \n",
      "4           5  None       None  None  None  None  None  None  None  None  ...   \n",
      "5           6  None       None    No    No    No    No  None  None  None  ...   \n",
      "\n",
      "  q86615 q86699 q363047        CA gender_orientation gender   race gender2  \\\n",
      "0   None   None    None  0.763080      Hetero_female  Woman  White   Woman   \n",
      "1   None   None    None       NaN        Hetero_male    Man   None     Man   \n",
      "2   None   None    None  0.661309      Hetero_female  Woman   None   Woman   \n",
      "3   None   None    None       NaN      Hetero_female  Woman  White   Woman   \n",
      "4   None   None    None  0.875424    Bisexual_female  Woman   None   Woman   \n",
      "5   None   None    None  1.515351        Hetero_male    Man  White     Man   \n",
      "\n",
      "  gender2_num CA_items  \n",
      "0         0.0        4  \n",
      "1         1.0        0  \n",
      "2         0.0        7  \n",
      "3         0.0        0  \n",
      "4         0.0        3  \n",
      "5         1.0        7  \n",
      "\n",
      "[6 rows x 2626 columns]\n"
     ]
    }
   ],
   "source": [
    "import pandas as pd\n",
    "\n",
    "path = \"parsed_data_public.parquet\"\n",
    "df = pd.read_parquet(path, engine = \"pyarrow\")\n",
    "print(df.head(6))"
   ]
  },
  {
   "cell_type": "code",
   "execution_count": 2,
   "id": "f3dc0785-f28b-4146-a437-c73a4a542359",
   "metadata": {},
   "outputs": [
    {
     "name": "stdout",
     "output_type": "stream",
     "text": [
      "Index(['Unnamed: 0', 'q2', 'q11', 'q12', 'q13', 'q14', 'q16', 'q17', 'q18',\n",
      "       'q20',\n",
      "       ...\n",
      "       'q86615', 'q86699', 'q363047', 'CA', 'gender_orientation', 'gender',\n",
      "       'race', 'gender2', 'gender2_num', 'CA_items'],\n",
      "      dtype='object', length=2626)\n"
     ]
    }
   ],
   "source": [
    "print(df.columns)"
   ]
  },
  {
   "cell_type": "code",
   "execution_count": 3,
   "id": "7545e17c-646e-4dce-a93a-9edcec8e3a7b",
   "metadata": {},
   "outputs": [],
   "source": [
    "df1 = df.rename(columns={'Unnamed: 0': 'index'})\n",
    "#df.rename(columns={'Unnamed: 0': 'index'}, inplace = True)"
   ]
  },
  {
   "cell_type": "code",
   "execution_count": 4,
   "id": "40c7a912-de35-4aa7-8738-b35112f56d7a",
   "metadata": {},
   "outputs": [
    {
     "name": "stdout",
     "output_type": "stream",
     "text": [
      "   index    q2        q11   q12   q13   q14   q16   q17   q18   q20  ...  \\\n",
      "0      1  None  Horrified  None  None  None  None    No  None  None  ...   \n",
      "1      2  None       None  None  None  None  None  None  None  None  ...   \n",
      "2      3  None       None  None    No    No  None    No  None  None  ...   \n",
      "\n",
      "  q86615 q86699 q363047        CA gender_orientation gender   race gender_2  \\\n",
      "0   None   None    None  0.763080      Hetero_female  Woman  White    Woman   \n",
      "1   None   None    None       NaN        Hetero_male    Man   None      Man   \n",
      "2   None   None    None  0.661309      Hetero_female  Woman   None    Woman   \n",
      "\n",
      "  gender2_num CA_items  \n",
      "0         0.0        4  \n",
      "1         1.0        0  \n",
      "2         0.0        7  \n",
      "\n",
      "[3 rows x 2626 columns]\n"
     ]
    }
   ],
   "source": [
    "df = df.rename(columns={'Unnamed: 0': 'index', 'gender2': 'gender_2'})\n",
    "print(df.head(3))"
   ]
  },
  {
   "cell_type": "code",
   "execution_count": 5,
   "id": "fc6900d2-66ec-48c9-b8a9-eee551481bc2",
   "metadata": {},
   "outputs": [
    {
     "name": "stdout",
     "output_type": "stream",
     "text": [
      "-               24567\n",
      "Atheism          9794\n",
      "Christianity     9274\n",
      "Agnosticism      8314\n",
      "Other            6193\n",
      "Catholicism      4829\n",
      "Judaism          1683\n",
      "Buddhism          999\n",
      "Hinduism          366\n",
      "Islam             345\n",
      "Name: d_religion_type, dtype: int64\n"
     ]
    }
   ],
   "source": [
    "print(df['d_religion_type'].value_counts())"
   ]
  },
  {
   "cell_type": "code",
   "execution_count": 6,
   "id": "e4051a0e-ff6d-4443-b1d1-b5c93142f952",
   "metadata": {},
   "outputs": [
    {
     "name": "stdout",
     "output_type": "stream",
     "text": [
      "['-' 'Other' 'Atheism' 'Agnosticism' 'Christianity' 'Judaism' None\n",
      " 'Catholicism' 'Buddhism' 'Hinduism' 'Islam']\n",
      "2007\n"
     ]
    }
   ],
   "source": [
    "print(df['d_religion_type'].unique())\n",
    "print(df['d_religion_type'].isna().sum())"
   ]
  },
  {
   "cell_type": "code",
   "execution_count": 7,
   "id": "96d03ba5-8e18-44f7-9637-5a5ae2cf6ff3",
   "metadata": {},
   "outputs": [
    {
     "name": "stdout",
     "output_type": "stream",
     "text": [
      "   q125 d_education_type   race d_gender d_smokes  d_age d_religion_type\n",
      "0  None  masters program  White    Woman       No   25.0               -\n",
      "1  None             None   None      Man     None   20.0               -\n",
      "2  None             None   None    Woman      Yes   22.0           Other\n",
      "3  None     Ph.D program  White    Woman       No   29.0         Atheism\n",
      "4  None     Ph.D program   None    Woman       No   30.0         Atheism\n",
      "5  None       university  White      Man       No   33.0     Agnosticism\n"
     ]
    }
   ],
   "source": [
    "weight_lifting = df[ ['q125', 'd_education_type', 'race', 'd_gender', 'd_smokes', 'd_age', 'd_religion_type' ] ]\n",
    "print(weight_lifting.head(6))"
   ]
  },
  {
   "cell_type": "code",
   "execution_count": 8,
   "id": "df34c333-c601-463c-b321-570e7fa79b2e",
   "metadata": {},
   "outputs": [
    {
     "name": "stdout",
     "output_type": "stream",
     "text": [
      "   index    q2        q11   q12   q13   q14   q16   q17   q18   q20  ...  \\\n",
      "0      1  None  Horrified  None  None  None  None    No  None  None  ...   \n",
      "1      2  None       None  None  None  None  None  None  None  None  ...   \n",
      "2      3  None       None  None    No    No  None    No  None  None  ...   \n",
      "3      4  None       None  None  None  None  None  None  None  None  ...   \n",
      "4      5  None       None  None  None  None  None  None  None  None  ...   \n",
      "5      6  None       None    No    No    No    No  None  None  None  ...   \n",
      "\n",
      "  q86462 q86615 q86699 q363047        CA gender_orientation gender gender_2  \\\n",
      "0   None   None   None    None  0.763080      Hetero_female  Woman    Woman   \n",
      "1   None   None   None    None       NaN        Hetero_male    Man      Man   \n",
      "2   None   None   None    None  0.661309      Hetero_female  Woman    Woman   \n",
      "3   None   None   None    None       NaN      Hetero_female  Woman    Woman   \n",
      "4   None   None   None    None  0.875424    Bisexual_female  Woman    Woman   \n",
      "5   None   None   None    None  1.515351        Hetero_male    Man      Man   \n",
      "\n",
      "  gender2_num CA_items  \n",
      "0         0.0        4  \n",
      "1         1.0        0  \n",
      "2         0.0        7  \n",
      "3         0.0        0  \n",
      "4         0.0        3  \n",
      "5         1.0        7  \n",
      "\n",
      "[6 rows x 2619 columns]\n"
     ]
    }
   ],
   "source": [
    "df_reverse = df.drop(columns=['q125', 'd_education_type', 'race', 'd_gender', 'd_smokes', 'd_age', 'd_religion_type' ])\n",
    "print(df_reverse.head(6))"
   ]
  },
  {
   "cell_type": "code",
   "execution_count": 9,
   "id": "aa7e9e53-b64c-4f43-9797-8619ce295d45",
   "metadata": {},
   "outputs": [
    {
     "name": "stdout",
     "output_type": "stream",
     "text": [
      "q125                55383\n",
      "d_education_type    17448\n",
      "race                12947\n",
      "d_gender             2006\n",
      "d_smokes            13281\n",
      "d_age                2006\n",
      "d_religion_type      2007\n",
      "dtype: int64\n"
     ]
    }
   ],
   "source": [
    "print(weight_lifting.isna().sum())"
   ]
  },
  {
   "cell_type": "code",
   "execution_count": 10,
   "id": "8a7b1235-60a5-4fe6-9f83-9a8ced51dfb6",
   "metadata": {},
   "outputs": [
    {
     "name": "stdout",
     "output_type": "stream",
     "text": [
      "107\n"
     ]
    }
   ],
   "source": [
    "print(weight_lifting['d_gender'].nunique())"
   ]
  },
  {
   "cell_type": "code",
   "execution_count": 11,
   "id": "425f5925-5542-4541-9403-4d039e914bf3",
   "metadata": {},
   "outputs": [
    {
     "name": "stdout",
     "output_type": "stream",
     "text": [
      "Man                                                               40215\n",
      "Woman                                                             25952\n",
      "Cis Man                                                              19\n",
      "Cis Woman                                                            18\n",
      "Woman, Cis Woman                                                      7\n",
      "                                                                  ...  \n",
      "Genderfluid, Genderqueer, Pangender                                   1\n",
      "Intersex                                                              1\n",
      "Woman, Androgynous                                                    1\n",
      "Non-binary, Transgender, Transsexual, Trans Woman, Genderqueer        1\n",
      "Woman, Intersex                                                       1\n",
      "Name: d_gender, Length: 107, dtype: int64\n"
     ]
    }
   ],
   "source": [
    "print(weight_lifting['d_gender'].value_counts())"
   ]
  },
  {
   "cell_type": "code",
   "execution_count": 12,
   "id": "c6c9651b-9c07-4e36-ad4e-6bcec1a1e9fb",
   "metadata": {},
   "outputs": [
    {
     "name": "stdout",
     "output_type": "stream",
     "text": [
      "<class 'pandas.core.frame.DataFrame'>\n",
      "RangeIndex: 68371 entries, 0 to 68370\n",
      "Data columns (total 7 columns):\n",
      " #   Column            Non-Null Count  Dtype  \n",
      "---  ------            --------------  -----  \n",
      " 0   q125              12988 non-null  object \n",
      " 1   d_education_type  50923 non-null  object \n",
      " 2   race              55424 non-null  object \n",
      " 3   d_gender          66365 non-null  object \n",
      " 4   d_smokes          55090 non-null  object \n",
      " 5   d_age             66365 non-null  float64\n",
      " 6   d_religion_type   66364 non-null  object \n",
      "dtypes: float64(1), object(6)\n",
      "memory usage: 3.7+ MB\n",
      "None\n"
     ]
    }
   ],
   "source": [
    "print(weight_lifting.info())"
   ]
  },
  {
   "cell_type": "code",
   "execution_count": 13,
   "id": "a6d272aa-8aa4-4ef9-83cf-9b547f3fc7c1",
   "metadata": {},
   "outputs": [
    {
     "name": "stdout",
     "output_type": "stream",
     "text": [
      "2\n"
     ]
    }
   ],
   "source": [
    "weight_lifting = weight_lifting[ ( weight_lifting['d_gender'] == 'Man' ) | ( weight_lifting['d_gender'] == 'Woman' ) ]\n",
    "print(weight_lifting['d_gender'].nunique())\n",
    "\n",
    "weight_lifting.dropna(inplace=True)"
   ]
  },
  {
   "cell_type": "code",
   "execution_count": 14,
   "id": "36f2b43b-27fc-4440-8764-fb75b08158ad",
   "metadata": {},
   "outputs": [
    {
     "name": "stdout",
     "output_type": "stream",
     "text": [
      "count    10295.000000\n",
      "mean        34.420981\n",
      "std          7.788986\n",
      "min         18.000000\n",
      "25%         29.000000\n",
      "50%         33.000000\n",
      "75%         39.000000\n",
      "max        100.000000\n",
      "Name: d_age, dtype: float64\n"
     ]
    }
   ],
   "source": [
    "print(weight_lifting['d_age'].describe())"
   ]
  },
  {
   "cell_type": "code",
   "execution_count": 28,
   "id": "c3306be4-c5d0-475f-b1d4-91d72b19b085",
   "metadata": {},
   "outputs": [
    {
     "name": "stdout",
     "output_type": "stream",
     "text": [
      "0\n",
      "Empty DataFrame\n",
      "Columns: [index, q2, q11, q12, q13, q14, q16, q17, q18, q20, q22, q24, q25, q26, q28, q29, q30, q32, q33, q35, q36, q37, q38, q39, q41, q42, q43, q45, q46, q48, q49, q50, q55, q56, q57, q60, q61, q63, q65, q67, q68, q69, q70, q71, q73, q74, q76, q77, q78, q79, q80, q81, q82, q84, q86, q87, q90, q91, q92, q95, q96, q97, q105, q106, q109, q110, q111, q112, q113, q114, q122, q123, q124, q125, q126, q127, q128, q129, q130, q132, q133, q134, q135, q136, q137, q140, q141, q144, q146, q152, q154, q157, q159, q160, q161, q163, q165, q166, q170, q172, ...]\n",
      "Index: []\n",
      "\n",
      "[0 rows x 2626 columns]\n"
     ]
    }
   ],
   "source": [
    "print(df.duplicated().sum())\n",
    "\n",
    "duplicitní_řádky = df[df.duplicated()]\n",
    "print(duplicitní_řádky)\n",
    "\n",
    "df.drop_duplicates(inplace=True)"
   ]
  },
  {
   "cell_type": "markdown",
   "id": "42974059-2640-4e8b-899e-5e15287936de",
   "metadata": {},
   "source": [
    "Stutgartovo pravidlo"
   ]
  },
  {
   "cell_type": "code",
   "execution_count": 16,
   "id": "585a7758-d17c-41ab-85db-687845c46255",
   "metadata": {},
   "outputs": [
    {
     "name": "stdout",
     "output_type": "stream",
     "text": [
      "14\n"
     ]
    }
   ],
   "source": [
    "import numpy as np\n",
    "print(round(1 + np.log2(len(weight_lifting['d_age']))))"
   ]
  },
  {
   "cell_type": "code",
   "execution_count": 17,
   "id": "7d9e6c64-69c0-443d-ab08-ab2953a6b762",
   "metadata": {},
   "outputs": [
    {
     "name": "stdout",
     "output_type": "stream",
     "text": [
      "    q125 d_education_type   race d_gender d_smokes d_religion_type  \\\n",
      "154  Yes  masters program  White    Woman       No               -   \n",
      "200   No       university  White    Woman       No         Atheism   \n",
      "299   No       university  White    Woman       No         Atheism   \n",
      "370  Yes       university  Asian      Man       No         Atheism   \n",
      "390  Yes       university  White    Woman       No     Catholicism   \n",
      "397   No  masters program  Other    Woman       No     Agnosticism   \n",
      "\n",
      "    věková_kategorie  \n",
      "154           Starší  \n",
      "200           Mladší  \n",
      "299            Mladí  \n",
      "370            Staří  \n",
      "390            Mladí  \n",
      "397            Mladí  \n"
     ]
    }
   ],
   "source": [
    "weight_lifting['věková_kategorie'] = pd.qcut(weight_lifting['d_age'], q=4, labels=['Mladí', 'Mladší', 'Starší', 'Staří'])\n",
    "weight_lifting.drop(columns=['d_age'], inplace=True)\n",
    "print(weight_lifting.head(6))"
   ]
  },
  {
   "cell_type": "code",
   "execution_count": 29,
   "id": "0d94fc3b-3090-4385-a48d-6b1d34e5a5a6",
   "metadata": {},
   "outputs": [
    {
     "data": {
      "image/png": "[encoded data removed]",
      "text/plain": [
       "<Figure size 1100x200 with 1 Axes>"
      ]
     },
     "metadata": {},
     "output_type": "display_data"
    }
   ],
   "source": [
    "import matplotlib.pyplot as plt\n",
    "summary_table = weight_lifting.describe()\n",
    "\n",
    "fig, ax = plt.subplots(figsize=(11, 2))\n",
    "ax.axis('tight')\n",
    "ax.axis('off')\n",
    "ax.table(cellText=summary_table.values, colLabels=summary_table.columns, rowLabels=summary_table.index, cellLoc='center', loc='center')\n",
    "\n",
    "plt.savefig('summary_table.png')\n",
    "plt.show()"
   ]
  },
  {
   "cell_type": "code",
   "execution_count": null,
   "id": "59313933-57ae-4e45-ac10-745d5a52dafd",
   "metadata": {},
   "outputs": [],
   "source": []
  },
  {
   "cell_type": "code",
   "execution_count": null,
   "id": "26d97b0a-5bf4-442d-a6f4-b9736f793ad6",
   "metadata": {},
   "outputs": [],
   "source": []
  }
 ],
 "metadata": {
  "kernelspec": {
   "display_name": "Python 3 (ipykernel)",
   "language": "python",
   "name": "python3"
  },
  "language_info": {
   "codemirror_mode": {
    "name": "ipython",
    "version": 3
   },
   "file_extension": ".py",
   "mimetype": "text/x-python",
   "name": "python",
   "nbconvert_exporter": "python",
   "pygments_lexer": "ipython3",
   "version": "3.11.0"
  }
 },
 "nbformat": 4,
 "nbformat_minor": 5
}
