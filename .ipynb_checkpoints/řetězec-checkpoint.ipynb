{
 "cells": [
  {
   "cell_type": "code",
   "execution_count": 1,
   "id": "8fac245c-d99a-4105-89a5-0f6e6422c7ca",
   "metadata": {},
   "outputs": [],
   "source": [
    "import numpy as np\n",
    "import pandas as pd"
   ]
  },
  {
   "cell_type": "code",
   "execution_count": 2,
   "id": "df9ce2ce-d7c0-49b9-aa77-9b7ef1c18fc4",
   "metadata": {},
   "outputs": [],
   "source": [
    "seznam_list = [1, 2, 3, 4, 5]\n",
    "seznam_np = np.array([1, 2, 3, 4, 5])\n",
    "seznam_tuple = (1, 2, 3, 4, 5)\n",
    "seznam_dict = {0: 1, 1: 2, 2: 3, 3: 4, 4: 5}\n",
    "seznam_series = pd.Series([1, 2, 3, 4, 5])"
   ]
  },
  {
   "cell_type": "code",
   "execution_count": 3,
   "id": "7be64cf7-6411-40bf-b7fb-953dda34dbc8",
   "metadata": {},
   "outputs": [
    {
     "name": "stdout",
     "output_type": "stream",
     "text": [
      "1\n",
      "1\n",
      "1\n"
     ]
    },
    {
     "ename": "NameError",
     "evalue": "name 'seznam' is not defined",
     "output_type": "error",
     "traceback": [
      "\u001b[1;31m---------------------------------------------------------------------------\u001b[0m",
      "\u001b[1;31mNameError\u001b[0m                                 Traceback (most recent call last)",
      "Cell \u001b[1;32mIn[3], line 6\u001b[0m\n\u001b[0;32m      3\u001b[0m \u001b[38;5;28mprint\u001b[39m(seznam_tuple[\u001b[38;5;241m0\u001b[39m]) \n\u001b[0;32m      4\u001b[0m \u001b[38;5;28mprint\u001b[39m(seznam_series[\u001b[38;5;241m0\u001b[39m])\n\u001b[1;32m----> 6\u001b[0m \u001b[38;5;28mprint\u001b[39m(\u001b[43mseznam\u001b[49m[\u001b[38;5;241m-\u001b[39m\u001b[38;5;241m1\u001b[39m]) \n\u001b[0;32m      7\u001b[0m \u001b[38;5;28mprint\u001b[39m(seznam_tuple[\u001b[38;5;241m-\u001b[39m\u001b[38;5;241m1\u001b[39m]) \n\u001b[0;32m      8\u001b[0m \u001b[38;5;28mprint\u001b[39m(seznam_series\u001b[38;5;241m.\u001b[39miloc[\u001b[38;5;241m-\u001b[39m\u001b[38;5;241m1\u001b[39m])\n",
      "\u001b[1;31mNameError\u001b[0m: name 'seznam' is not defined"
     ]
    }
   ],
   "source": [
    "#selekce\n",
    "print(seznam_list[0]) \n",
    "print(seznam_tuple[0]) \n",
    "print(seznam_series[0])\n",
    "\n",
    "print(seznam_list[-1]) \n",
    "print(seznam_tuple[-1]) \n",
    "print(seznam_series.iloc[-1])"
   ]
  },
  {
   "cell_type": "code",
   "execution_count": null,
   "id": "90f7f9b1-5c53-4e64-8f79-38e8d0dde191",
   "metadata": {},
   "outputs": [],
   "source": [
    "#selekce části seznamu s dvěma hranicemi\n",
    "print(seznam_list[1:4])\n",
    "print(seznam_tuple[1:4])"
   ]
  },
  {
   "cell_type": "code",
   "execution_count": null,
   "id": "6505254c-e93a-48aa-bd50-3996b162caba",
   "metadata": {},
   "outputs": [],
   "source": [
    "#selekce části seznamu jednou hranicí\n",
    "print(seznam_list[:3])\n",
    "print(seznam_tuple[:3])\n",
    "\n",
    "print(seznam_list[2:])\n",
    "print(seznam_tuple[2:])"
   ]
  },
  {
   "cell_type": "code",
   "execution_count": null,
   "id": "9a91bf75-c870-435e-a983-9e81542668b3",
   "metadata": {},
   "outputs": [],
   "source": [
    "#obrácení seznamu\n",
    "print(seznam_list[::-1])\n",
    "print(seznam_tuple[::-1])"
   ]
  },
  {
   "cell_type": "code",
   "execution_count": null,
   "id": "4f010b70-5745-4340-a52d-3050f3de5924",
   "metadata": {},
   "outputs": [],
   "source": [
    "#změna konkrétní hodnoty\n",
    "seznam_list[0] = 10\n",
    "print(seznam_list[0])\n",
    "# Tuple je neměnný, nelze měnit hodnoty nebo přidávat prvky"
   ]
  },
  {
   "cell_type": "code",
   "execution_count": null,
   "id": "cde2c7e3-edd0-4570-81b9-d4224ef33d5d",
   "metadata": {},
   "outputs": [],
   "source": [
    "#přidání nové hodnoty na konec\n",
    "seznam_list.append(6)\n",
    "print(seznam_list) \n",
    "# Tuple je neměnný, nelze měnit hodnoty nebo přidávat prvky"
   ]
  },
  {
   "cell_type": "code",
   "execution_count": null,
   "id": "bdada8de-d5b7-4476-b742-8d7204387413",
   "metadata": {},
   "outputs": [],
   "source": [
    "#spojení seznamů\n",
    "seznam_list.extend([7, 8])\n",
    "print(seznam_list)  \n",
    "# Tuple je neměnný, nelze měnit hodnoty nebo přidávat prvky"
   ]
  },
  {
   "cell_type": "code",
   "execution_count": null,
   "id": "b7091f27-fc0f-4465-86b3-b868b06d449d",
   "metadata": {},
   "outputs": [],
   "source": [
    "#získání délky seznamu\n",
    "print(len(seznam_tuple))"
   ]
  },
  {
   "cell_type": "code",
   "execution_count": null,
   "id": "a4e72ad4-e422-4eb7-bd42-e5606ad97032",
   "metadata": {},
   "outputs": [],
   "source": [
    "#zjištění počtu záznamů s X hodnotou\n",
    "print(seznam_tuple.count(7)"
   ]
  },
  {
   "cell_type": "code",
   "execution_count": null,
   "id": "4b7db1d7-2b37-4cf8-914f-bf6b8f139c57",
   "metadata": {},
   "outputs": [],
   "source": []
  }
 ],
 "metadata": {
  "kernelspec": {
   "display_name": "Python 3 (ipykernel)",
   "language": "python",
   "name": "python3"
  },
  "language_info": {
   "codemirror_mode": {
    "name": "ipython",
    "version": 3
   },
   "file_extension": ".py",
   "mimetype": "text/x-python",
   "name": "python",
   "nbconvert_exporter": "python",
   "pygments_lexer": "ipython3",
   "version": "3.11.0"
  }
 },
 "nbformat": 4,
 "nbformat_minor": 5
}
