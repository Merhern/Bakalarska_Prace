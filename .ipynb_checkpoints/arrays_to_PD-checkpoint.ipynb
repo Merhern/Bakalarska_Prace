{
 "cells": [
  {
   "cell_type": "code",
   "execution_count": 24,
   "id": "9e131dba-3db0-4251-af3a-f59f4f864b56",
   "metadata": {},
   "outputs": [],
   "source": [
    "import pandas as pd\n",
    "data = [\"A\", \"B\", \"C\", \"D\"]\n",
    "df = pd.DataFrame(data, columns=['Písmena'])"
   ]
  },
  {
   "cell_type": "code",
   "execution_count": 25,
   "id": "2cf43222-8280-4e86-919d-2d27d7eee138",
   "metadata": {},
   "outputs": [
    {
     "name": "stdout",
     "output_type": "stream",
     "text": [
      "  Písmena\n",
      "0       A\n",
      "1       B\n",
      "2       C\n",
      "3       D\n"
     ]
    }
   ],
   "source": [
    "print(df.head())"
   ]
  },
  {
   "cell_type": "code",
   "execution_count": 29,
   "id": "cdd61ff9-a1bf-4813-80c5-487d5d5fef61",
   "metadata": {},
   "outputs": [],
   "source": [
    "data2D = [[1, ['A', 'B', 'C']], [2, 'B'], [3, 'C']]\n",
    "df = pd.DataFrame(data2D, columns=['Čísla', 'Písmena'])"
   ]
  },
  {
   "cell_type": "code",
   "execution_count": 35,
   "id": "6e090ba5-3c93-4610-9074-700a8d05cdcb",
   "metadata": {},
   "outputs": [
    {
     "name": "stdout",
     "output_type": "stream",
     "text": [
      "   Čísla    Písmena\n",
      "0      1  [A, B, C]\n",
      "1      2          B\n",
      "2      3          C\n"
     ]
    }
   ],
   "source": [
    "print(df.head())"
   ]
  },
  {
   "cell_type": "code",
   "execution_count": null,
   "id": "035c0926-f9de-4d84-90cf-caa16c676b17",
   "metadata": {},
   "outputs": [],
   "source": []
  }
 ],
 "metadata": {
  "kernelspec": {
   "display_name": "Python 3 (ipykernel)",
   "language": "python",
   "name": "python3"
  },
  "language_info": {
   "codemirror_mode": {
    "name": "ipython",
    "version": 3
   },
   "file_extension": ".py",
   "mimetype": "text/x-python",
   "name": "python",
   "nbconvert_exporter": "python",
   "pygments_lexer": "ipython3",
   "version": "3.11.0"
  }
 },
 "nbformat": 4,
 "nbformat_minor": 5
}
