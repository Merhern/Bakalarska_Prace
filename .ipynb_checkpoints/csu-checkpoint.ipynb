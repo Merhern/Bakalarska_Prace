{
 "cells": [
  {
   "cell_type": "code",
   "execution_count": 15,
   "id": "30f04d71-d6ec-4592-9eed-bc3328330a4c",
   "metadata": {},
   "outputs": [
    {
     "name": "stdout",
     "output_type": "stream",
     "text": [
      "   Unnamed: 0       Unnamed: 1 Hl.m. Praha  Středo-český  Jiho-český  \\\n",
      "4         4.0           Mourek         14.          16.0        20.0   \n",
      "5         5.0             LŽPL   19. - 20.          15.0        14.0   \n",
      "6         6.0  PRO2022+SVPROZS         11.           9.0         9.0   \n",
      "7         7.0  Nevolte Urza.cz         24.          27.0        25.0   \n",
      "8         8.0  SSPD-SP+Švýcdem         27.          24.0        24.0   \n",
      "\n",
      "   Plzeň-ský Karlo-varský  Ústecký   Liberec-ký  Králové-hradecký  \\\n",
      "4       21.0          22.      21.0        19.0              20.0   \n",
      "5       14.0          14.      14.0        14.0              13.0   \n",
      "6        8.0           8.       8.0         8.0               8.0   \n",
      "7       25.0          26.      27.0        25.0              27.0   \n",
      "8       26.0          24.      25.0        24.0              26.0   \n",
      "\n",
      "   Pardu-bický  Vysočina  Jiho-moravský Olomouc-ký  Zlínský  Moravsko-slezský  \\\n",
      "4         17.0      21.0           21.0        22.     22.0              22.0   \n",
      "5         14.0      13.0           14.0        13.     13.0              15.0   \n",
      "6          8.0       9.0            8.0         8.      8.0               9.0   \n",
      "7         27.0      25.0           27.0        28.     25.0              28.0   \n",
      "8         25.0      27.0           26.0        25.     26.0              25.0   \n",
      "\n",
      "     ČR  \n",
      "4  18.0  \n",
      "5  14.0  \n",
      "6   8.0  \n",
      "7  26.0  \n",
      "8  25.0  \n"
     ]
    }
   ],
   "source": [
    "import pandas as pd\n",
    "\n",
    "data = pd.read_excel('2200282406.xlsx', skiprows=4)\n",
    "\n",
    "data = pd.read_excel('2200282406.xlsx', header=4)\n",
    "\n",
    "data = data.iloc[4:]\n",
    "\n",
    "print(data.head())"
   ]
  },
  {
   "cell_type": "code",
   "execution_count": null,
   "id": "5b529032-6139-4718-bab2-610cf16ec056",
   "metadata": {},
   "outputs": [],
   "source": []
  }
 ],
 "metadata": {
  "kernelspec": {
   "display_name": "Python 3 (ipykernel)",
   "language": "python",
   "name": "python3"
  },
  "language_info": {
   "codemirror_mode": {
    "name": "ipython",
    "version": 3
   },
   "file_extension": ".py",
   "mimetype": "text/x-python",
   "name": "python",
   "nbconvert_exporter": "python",
   "pygments_lexer": "ipython3",
   "version": "3.11.0"
  }
 },
 "nbformat": 4,
 "nbformat_minor": 5
}
