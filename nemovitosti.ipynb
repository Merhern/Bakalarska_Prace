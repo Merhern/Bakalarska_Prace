{
 "cells": [
  {
   "cell_type": "code",
   "execution_count": 1,
   "id": "577f9a28-6203-4b64-be15-f8b93f81d553",
   "metadata": {},
   "outputs": [
    {
     "name": "stdout",
     "output_type": "stream",
     "text": [
      "Local authorities,May 2024,May 2023,Difference\n"
     ]
    }
   ],
   "source": [
    "import pandas as pd\n",
    "\n",
    "path = \"England-annual-price-change-by-local-authority-2024-05.csv\"\n",
    "print(open(path).readline().rstrip())"
   ]
  },
  {
   "cell_type": "code",
   "execution_count": 3,
   "id": "f5b6d0f3-8ca4-45d8-8a85-bfafa6e72b4a",
   "metadata": {},
   "outputs": [
    {
     "name": "stdout",
     "output_type": "stream",
     "text": [
      "Local authorities    object\n",
      "May 2024              int64\n",
      "May 2023              int64\n",
      "Difference           object\n",
      "dtype: object\n"
     ]
    }
   ],
   "source": [
    "import csv\n",
    "\n",
    "sniffer = csv.Sniffer()\n",
    "custom_delimiter = sniffer.sniff(open(path).readline().rstrip()).delimiter\n",
    "df = pd.read_csv(path, delimiter=custom_delimiter)\n",
    "print(df.dtypes)"
   ]
  },
  {
   "cell_type": "code",
   "execution_count": 4,
   "id": "83d53f8d-69d2-4fe3-98ad-4f6fe86b95f9",
   "metadata": {},
   "outputs": [
    {
     "name": "stdout",
     "output_type": "stream",
     "text": [
      "      Local authorities  May 2024  May 2023 Difference\n",
      "0                  Adur    375443    370646       1.3%\n",
      "1          Amber Valley    224979    222489       1.1%\n",
      "2                  Arun    334067    335383      -0.4%\n",
      "3              Ashfield    184841    188672      -2.0%\n",
      "4               Ashford    349867    340569       2.7%\n",
      "5               Babergh    322552    324761      -0.7%\n",
      "6  Barking and Dagenham    337753    341250      -1.0%\n"
     ]
    }
   ],
   "source": [
    "print(df.head(7))"
   ]
  },
  {
   "cell_type": "code",
   "execution_count": 5,
   "id": "ff49bd6c-dd6f-4ecf-a5bf-2a1d88987285",
   "metadata": {},
   "outputs": [
    {
     "name": "stdout",
     "output_type": "stream",
     "text": [
      "Local authorities     object\n",
      "May 2024               int64\n",
      "May 2023               int64\n",
      "Difference           float64\n",
      "dtype: object\n"
     ]
    }
   ],
   "source": [
    "df[\"Difference\"] = df[\"Difference\"].astype(\"string\").str.replace(\"%\", \"\")\n",
    "df[\"Difference\"] = df[\"Difference\"].astype(\"float\")\n",
    "df[\"Difference\"] = df[\"Difference\"] / 100\n",
    "print(df.dtypes)"
   ]
  },
  {
   "cell_type": "code",
   "execution_count": 6,
   "id": "c0fcd9e5-53c1-4d90-971d-c34fc6cb205d",
   "metadata": {},
   "outputs": [
    {
     "name": "stdout",
     "output_type": "stream",
     "text": [
      "  Local authorities  May 2024  May 2023  Difference\n",
      "0              Adur    375443    370646       0.013\n",
      "1      Amber Valley    224979    222489       0.011\n",
      "2              Arun    334067    335383      -0.004\n"
     ]
    }
   ],
   "source": [
    "print(df.head(3))"
   ]
  },
  {
   "cell_type": "code",
   "execution_count": null,
   "id": "b948497a-e8d4-4f39-96b5-679a3e362fce",
   "metadata": {},
   "outputs": [],
   "source": []
  }
 ],
 "metadata": {
  "kernelspec": {
   "display_name": "Python 3 (ipykernel)",
   "language": "python",
   "name": "python3"
  },
  "language_info": {
   "codemirror_mode": {
    "name": "ipython",
    "version": 3
   },
   "file_extension": ".py",
   "mimetype": "text/x-python",
   "name": "python",
   "nbconvert_exporter": "python",
   "pygments_lexer": "ipython3",
   "version": "3.10.6"
  }
 },
 "nbformat": 4,
 "nbformat_minor": 5
}
