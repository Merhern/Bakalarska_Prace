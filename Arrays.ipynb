{
 "cells": [
  {
   "cell_type": "markdown",
   "id": "4fe57bca-b817-4b48-9024-ef583eb354dd",
   "metadata": {},
   "source": [
    "VŠE - shrnutí"
   ]
  },
  {
   "cell_type": "code",
   "execution_count": 1,
   "id": "763b18a7-b85c-4b7a-a6e8-bf408e5a057e",
   "metadata": {},
   "outputs": [],
   "source": [
    "import numpy as np\n",
    "import pandas as pd\n",
    "\n",
    "seznam_list = [1, 2, 3, 4, 5]\n",
    "seznam_tuple = (1, 2, 3, 4, 5)\n",
    "seznam_set = {1, 2, 3, 4, 5}\n",
    "seznam_range = range(1,6)\n",
    "seznam_np = np.array([1, 2, 3, 4, 5])\n",
    "seznam_series = pd.Series([1, 2, 3, 4, 5])"
   ]
  },
  {
   "cell_type": "code",
   "execution_count": 2,
   "id": "2a0be488-87a0-4e71-8e46-00ca27b0ebab",
   "metadata": {},
   "outputs": [
    {
     "name": "stdout",
     "output_type": "stream",
     "text": [
      "2\n",
      "2\n",
      "2\n",
      "2\n",
      "2\n"
     ]
    }
   ],
   "source": [
    "print(seznam_list[1]) \n",
    "print(seznam_tuple[1]) \n",
    "# Set je neuspořádaná množina, vybírat indexem není možné\n",
    "print(seznam_range[1])\n",
    "print(seznam_np[1])\n",
    "print(seznam_series.iat[1])"
   ]
  },
  {
   "cell_type": "code",
   "execution_count": 3,
   "id": "862f1606-9056-4c7b-857f-6d3432fa8499",
   "metadata": {},
   "outputs": [
    {
     "name": "stdout",
     "output_type": "stream",
     "text": [
      "5\n",
      "5\n",
      "5\n",
      "5\n",
      "5\n"
     ]
    }
   ],
   "source": [
    "print(seznam_list[-1]) \n",
    "print(seznam_tuple[-1]) \n",
    "# Set je neuspořádaná množina, vybírat indexem není možné\n",
    "print(seznam_range[-1])\n",
    "print(seznam_np[-1])\n",
    "print(seznam_series.iat[-1])"
   ]
  },
  {
   "cell_type": "code",
   "execution_count": 4,
   "id": "d7fd98d2-9eea-468c-b1b6-2b4e098da5c0",
   "metadata": {},
   "outputs": [
    {
     "name": "stdout",
     "output_type": "stream",
     "text": [
      "[1, 2, 3, 4, 5, 7, 8]\n",
      "(1, 2, 3, 4, 5, 6, 7, 8)\n",
      "{1, 2, 3, 4, 5, 7, 8}\n",
      "[1 2 3 4 5 7 8]\n",
      "0    1\n",
      "1    2\n",
      "2    3\n",
      "3    4\n",
      "4    5\n",
      "0    7\n",
      "1    8\n",
      "dtype: int64\n"
     ]
    }
   ],
   "source": [
    "print(seznam_list + [7, 8])\n",
    "print(seznam_tuple + (6, 7, 8))\n",
    "\n",
    "seznam_set.update({7, 8}) # Set neumožňuje duplicitní hodnoty !\n",
    "print(seznam_set)\n",
    "\n",
    "#range nelze spojit\n",
    "print(np.concatenate((seznam_np, np.array([7, 8]))))\n",
    "print(pd.concat([seznam_series, pd.Series([7,8])], axis=0))"
   ]
  },
  {
   "cell_type": "code",
   "execution_count": 5,
   "id": "99a96db6-4481-4702-941f-a189210370b0",
   "metadata": {},
   "outputs": [],
   "source": [
    "seznam_np = np.array([1, 2, 3, 4, 5])"
   ]
  },
  {
   "cell_type": "code",
   "execution_count": 6,
   "id": "0c3a0f4f-707a-4153-b83b-7419d7503b6c",
   "metadata": {},
   "outputs": [
    {
     "name": "stdout",
     "output_type": "stream",
     "text": [
      "[2, 3, 4]\n",
      "[2 3 4]\n",
      "(2, 3, 4)\n",
      "1    2\n",
      "2    3\n",
      "3    4\n",
      "dtype: int64\n"
     ]
    }
   ],
   "source": [
    "# Selekce části seznamu s dvěma hranicemi (slicing)\n",
    "print(seznam_list[1:4])\n",
    "print(seznam_np[1:4])\n",
    "print(seznam_tuple[1:4])\n",
    "# Set neumožňuje slicing\n",
    "print(seznam_series.iloc[1:4])"
   ]
  },
  {
   "cell_type": "code",
   "execution_count": 7,
   "id": "675b2812-24ff-47bb-83f2-c7f1387f94fe",
   "metadata": {},
   "outputs": [
    {
     "name": "stdout",
     "output_type": "stream",
     "text": [
      "[1, 2, 3]\n",
      "(1, 2, 3)\n",
      "[1, 2, 3]\n",
      "[1 2 3]\n",
      "0    1\n",
      "1    2\n",
      "2    3\n",
      "dtype: int64\n"
     ]
    }
   ],
   "source": [
    "# Selekce části seznamu s hranicí zprava\n",
    "print(seznam_list[:3])\n",
    "print(seznam_tuple[:3])\n",
    "# Set neumožňuje slicing\n",
    "print(list(seznam_range[:3]))\n",
    "print(seznam_np[:3])\n",
    "print(seznam_series[:3])"
   ]
  },
  {
   "cell_type": "code",
   "execution_count": 8,
   "id": "261a8b31-0f1c-4206-ad8b-93d53a1b6446",
   "metadata": {},
   "outputs": [
    {
     "name": "stdout",
     "output_type": "stream",
     "text": [
      "[3, 4, 5]\n",
      "(3, 4, 5)\n",
      "[3, 4, 5]\n",
      "[3 4 5]\n",
      "2    3\n",
      "3    4\n",
      "4    5\n",
      "dtype: int64\n"
     ]
    }
   ],
   "source": [
    "# Selekce části seznamu s hranicí zleva\n",
    "print(seznam_list[2:])\n",
    "print(seznam_tuple[2:])\n",
    "# Set neumožňuje slicing\n",
    "print(list(seznam_range[2:]))\n",
    "print(seznam_np[2:])\n",
    "print(seznam_series[2:])"
   ]
  },
  {
   "cell_type": "code",
   "execution_count": 9,
   "id": "251ff808-0015-45c4-9da0-df0513008002",
   "metadata": {},
   "outputs": [
    {
     "name": "stdout",
     "output_type": "stream",
     "text": [
      "[1, 3, 5]\n",
      "(1, 3, 5)\n",
      "[1, 3, 5]\n",
      "[1 3 5]\n",
      "0    1\n",
      "2    3\n",
      "4    5\n",
      "dtype: int64\n"
     ]
    }
   ],
   "source": [
    "# Krokávání\n",
    "print(seznam_list[::2])\n",
    "print(seznam_tuple[::2])\n",
    "# Set neumožňuje indexování ani krokování, protože je neuspořádaný\n",
    "print(list(seznam_range[::2]))\n",
    "print(seznam_np[::2])\n",
    "print(seznam_series[::2])"
   ]
  },
  {
   "cell_type": "code",
   "execution_count": 10,
   "id": "d741f9e1-e633-4692-9b20-e67d21d5e60f",
   "metadata": {},
   "outputs": [
    {
     "name": "stdout",
     "output_type": "stream",
     "text": [
      "[5, 4, 3, 2, 1]\n",
      "(5, 4, 3, 2, 1)\n",
      "[5, 4, 3, 2, 1]\n",
      "[5 4 3 2 1]\n",
      "4    5\n",
      "3    4\n",
      "2    3\n",
      "1    2\n",
      "0    1\n",
      "dtype: int64\n"
     ]
    }
   ],
   "source": [
    "# Obrácení seznamu\n",
    "print(seznam_list[::-1])\n",
    "print(seznam_tuple[::-1])\n",
    "# Set neumožňuje indexování ani obrácení, protože je neuspořádaný\n",
    "print(list(seznam_range[::-1]))\n",
    "print(seznam_np[::-1]) #alternativa: np.flip(seznam_np)\n",
    "print(seznam_series[::-1]) "
   ]
  },
  {
   "cell_type": "code",
   "execution_count": 11,
   "id": "8465f748-e5bf-4554-a53e-87ea5670203e",
   "metadata": {},
   "outputs": [
    {
     "name": "stdout",
     "output_type": "stream",
     "text": [
      "[4, 3, 2]\n",
      "(4, 3, 2)\n",
      "[4, 3, 2]\n",
      "[4 3 2]\n",
      "3    4\n",
      "2    3\n",
      "1    2\n",
      "dtype: int64\n"
     ]
    }
   ],
   "source": [
    "# Obrácení a ořezání seznamu\n",
    "print(seznam_list[3:0:-1])\n",
    "print(seznam_tuple[3:0:-1])\n",
    "# Set neumožňuje indexování ani obrácení, protože je neuspořádaný\n",
    "print(list(seznam_range[3:0:-1]))\n",
    "print(seznam_np[3:0:-1])\n",
    "print(seznam_series[3:0:-1])"
   ]
  },
  {
   "cell_type": "code",
   "execution_count": 12,
   "id": "de3dfaa0-6846-4757-8865-d1a33e9223dc",
   "metadata": {},
   "outputs": [
    {
     "name": "stdout",
     "output_type": "stream",
     "text": [
      "5\n",
      "5\n",
      "7\n",
      "5\n",
      "5\n",
      "5\n"
     ]
    }
   ],
   "source": [
    "# Získání délky seznamu\n",
    "print(len(seznam_list))\n",
    "print(len(seznam_tuple))\n",
    "print(len(seznam_set))\n",
    "print(len(seznam_range))\n",
    "print(len(seznam_np)) #alternativa: np.size(seznam_np)\n",
    "print(len(seznam_series)) #alternativa: seznam_series.size"
   ]
  },
  {
   "cell_type": "code",
   "execution_count": 13,
   "id": "cf5798ba-778d-4c91-ab37-adc7825bcc3f",
   "metadata": {},
   "outputs": [
    {
     "name": "stdout",
     "output_type": "stream",
     "text": [
      "[10, 2, 3, 4, 5]\n",
      "{2, 3, 4, 5, 7, 8, 10}\n",
      "[10  2  3  4  5]\n",
      "0    10\n",
      "1     2\n",
      "2     3\n",
      "3     4\n",
      "4     5\n",
      "dtype: int64\n"
     ]
    }
   ],
   "source": [
    "seznam_list[0] = 10\n",
    "print(seznam_list)\n",
    "\n",
    "# Tuple je neměnný, nelze měnit hodnoty.\n",
    "\n",
    "#u setu je jedinné možné řešení odstanit a přidat hodnotu\n",
    "seznam_set.remove(1)\n",
    "seznam_set.add(10)\n",
    "print(seznam_set)\n",
    "\n",
    "# Range nelze upracovat\n",
    "\n",
    "seznam_np[0] = 10\n",
    "print(seznam_np)\n",
    "\n",
    "seznam_series[0] = 10\n",
    "print(seznam_series)"
   ]
  },
  {
   "cell_type": "code",
   "execution_count": 14,
   "id": "06c61721-3689-4307-8126-694dea5b2cb6",
   "metadata": {},
   "outputs": [
    {
     "name": "stdout",
     "output_type": "stream",
     "text": [
      "[10, 2, 3, 4, 5, 6]\n",
      "{2, 3, 4, 5, 6, 7, 8, 10}\n",
      "[10  2  3  4  5  6]\n",
      "0    10\n",
      "1     2\n",
      "2     3\n",
      "3     4\n",
      "4     5\n",
      "5     6\n",
      "dtype: int64\n"
     ]
    }
   ],
   "source": [
    "# Přidání nové hodnoty na konec\n",
    "seznam_list.append(6)\n",
    "print(seznam_list)\n",
    "\n",
    "# tuple nelze upravovat\n",
    "\n",
    "seznam_set.add(6) # Set neumožňuje duplikáty !\n",
    "print(seznam_set)\n",
    "\n",
    "# range nelze měnit\n",
    "\n",
    "seznam_np = np.append(seznam_np, 6)\n",
    "print(seznam_np)\n",
    "\n",
    "seznam_series[ len(seznam_series) ] = 6\n",
    "print(seznam_series)"
   ]
  },
  {
   "cell_type": "code",
   "execution_count": 15,
   "id": "1526461f-c7df-44c4-a19a-e20832a567c8",
   "metadata": {},
   "outputs": [
    {
     "name": "stdout",
     "output_type": "stream",
     "text": [
      "1\n",
      "1\n",
      "1\n",
      "1\n"
     ]
    }
   ],
   "source": [
    "# Zjištění počtu záznamů s určitou hodnotou\n",
    "print(seznam_list.count(4))\n",
    "print(seznam_tuple.count(4))\n",
    "# Set nepodporuje duplicity, tudíž funkce nemá smysl k existenci\n",
    "# V range nemohou být duplicity\n",
    "print(np.count_nonzero(seznam_np == 4))\n",
    "print(seznam_series.value_counts()[4])"
   ]
  },
  {
   "cell_type": "code",
   "execution_count": 16,
   "id": "db8b6ce3-c0fb-4407-b914-732547609d85",
   "metadata": {},
   "outputs": [
    {
     "name": "stdout",
     "output_type": "stream",
     "text": [
      "10\n",
      "[2, 3, 4, 5, 6]\n",
      "2\n",
      "{3, 4, 5, 6, 7, 8, 10}\n",
      "10\n",
      "1    2\n",
      "2    3\n",
      "3    4\n",
      "4    5\n",
      "5    6\n",
      "dtype: int64\n"
     ]
    }
   ],
   "source": [
    "odstraneny_prvek = seznam_list.pop(0)\n",
    "print(odstraneny_prvek)     \n",
    "print(seznam_list)     \n",
    "\n",
    "#Tuple neobsahuje .pop(), protože je neměnný\n",
    "\n",
    "odstraneny_prvek = seznam_set.pop()\n",
    "print(odstraneny_prvek) \n",
    "print(seznam_set)\n",
    "\n",
    "#Range neobsahuje .pop(), protože je neměnný\n",
    "#NumPy array neobsahuje .pop()\n",
    "\n",
    "odstraneny_prvek = seznam_series.pop(0)\n",
    "print(odstraneny_prvek) \n",
    "print(seznam_series)"
   ]
  },
  {
   "cell_type": "markdown",
   "id": "b7600a6d-66be-4202-864b-5b965423c4c5",
   "metadata": {},
   "source": [
    "NUMPY"
   ]
  },
  {
   "cell_type": "code",
   "execution_count": 17,
   "id": "e88354b1-b058-4875-b47c-3c9f7c234cd9",
   "metadata": {},
   "outputs": [
    {
     "name": "stdout",
     "output_type": "stream",
     "text": [
      "uint8\n",
      "uint8\n"
     ]
    }
   ],
   "source": [
    "#datový typ => uINT8\n",
    "seznam_np = seznam_np.astype(np.uint8)\n",
    "new_np_array = np.array([1,2,3,4,5], dtype='uint8')\n",
    "print(seznam_np.dtype)\n",
    "print(new_np_array.dtype)"
   ]
  },
  {
   "cell_type": "code",
   "execution_count": 18,
   "id": "5294907b-3732-4fa2-b6fa-617356199ae1",
   "metadata": {},
   "outputs": [],
   "source": [
    "#TODO dodělat datové typy"
   ]
  },
  {
   "cell_type": "code",
   "execution_count": 19,
   "id": "ee99f950-4c2a-445f-9bff-c86a10b95ebd",
   "metadata": {},
   "outputs": [
    {
     "name": "stdout",
     "output_type": "stream",
     "text": [
      "[ 2  4  6  8 10 12 14 16 18]\n",
      "[0.5 1.  1.5 2.  2.5 3.  3.5 4.  4.5]\n",
      "[ 3  4  5  6  7  8  9 10 11]\n",
      "[-1  0  1  2  3  4  5  6  7]\n"
     ]
    }
   ],
   "source": [
    "# List\n",
    "seznam = [1,2,3,4,5,6,7,8,9]\n",
    "seznam_listX2 = [x * 2 for x in seznam]\n",
    "\n",
    "#NumPy Array\n",
    "seznam_np = np.array([1,2,3,4,5,6,7,8,9])\n",
    "print(seznam_np * 2)\n",
    "print(seznam_np / 2)\n",
    "print(seznam_np + 2)\n",
    "print(seznam_np - 2)"
   ]
  },
  {
   "cell_type": "code",
   "execution_count": 20,
   "id": "221d1cc7-3fda-4513-aae9-579c5a1b36ca",
   "metadata": {},
   "outputs": [
    {
     "name": "stdout",
     "output_type": "stream",
     "text": [
      "[  0.   114.59 229.18 343.77]\n"
     ]
    }
   ],
   "source": [
    "np.set_printoptions(precision=2, suppress=True)\n",
    "\n",
    "radiány = np.array([0,2,4,6], dtype='float64')\n",
    "stupně = radiány * (180 / np.pi)\n",
    "print(stupně)"
   ]
  },
  {
   "cell_type": "code",
   "execution_count": 21,
   "id": "bb08084d-0191-4933-8da4-aea0049151ed",
   "metadata": {},
   "outputs": [
    {
     "name": "stdout",
     "output_type": "stream",
     "text": [
      "[2 8 2 8]\n",
      "[0.5 0.5 0.5 0.5]\n",
      "[3 6 3 6]\n",
      "[-1 -2 -1 -2]\n"
     ]
    }
   ],
   "source": [
    "a = np.array([1,2,1,2])\n",
    "b = np.array([2,4,2,4])\n",
    "\n",
    "print(a * b)\n",
    "print(a / b)\n",
    "print(a + b)\n",
    "print(a - b)"
   ]
  },
  {
   "cell_type": "code",
   "execution_count": 22,
   "id": "5950ddda-e8f8-4d85-a222-87a19b490613",
   "metadata": {},
   "outputs": [
    {
     "name": "stdout",
     "output_type": "stream",
     "text": [
      "[[ 1  4  9]\n",
      " [ 2  8 24]]\n"
     ]
    }
   ],
   "source": [
    "matice = np.array([[1, 2, 3], [2, 4,8]])\n",
    "matice2 = np.array([1, 2, 3])\n",
    "\n",
    "print(matice * matice2)"
   ]
  },
  {
   "cell_type": "code",
   "execution_count": 23,
   "id": "10123e9b-6c2e-44b3-9228-9bf9acc4c6f1",
   "metadata": {},
   "outputs": [
    {
     "name": "stdout",
     "output_type": "stream",
     "text": [
      "[False False  True]\n",
      "[ True False False]\n"
     ]
    }
   ],
   "source": [
    "#logické operace se seznamy výše\n",
    "print (matice2 > 2)\n",
    "print (matice2 < 2)"
   ]
  },
  {
   "cell_type": "code",
   "execution_count": 24,
   "id": "84476fdc-2e47-4efd-a7de-eca5e501d495",
   "metadata": {},
   "outputs": [
    {
     "name": "stdout",
     "output_type": "stream",
     "text": [
      "[0 1 2 3 4 5 6 7 8 9]\n"
     ]
    }
   ],
   "source": [
    "#alternativa k nativnímu range\n",
    "řada = np.arange(10)\n",
    "print(řada)"
   ]
  },
  {
   "cell_type": "markdown",
   "id": "f5b0f36e-f98d-416f-bc81-25a10a37df36",
   "metadata": {},
   "source": [
    "SERIES"
   ]
  },
  {
   "cell_type": "code",
   "execution_count": 25,
   "id": "3f7b4cd6-ef32-4e6e-bc75-0857ab5988a5",
   "metadata": {},
   "outputs": [
    {
     "name": "stdout",
     "output_type": "stream",
     "text": [
      "0        Jan\n",
      "1       Anna\n",
      "2       Petr\n",
      "3      Tomáš\n",
      "4    neznámé\n",
      "5    neznámé\n",
      "6      Marie\n",
      "7      Pavel\n",
      "dtype: object\n"
     ]
    }
   ],
   "source": [
    "#nahrazení None 'neznámé'\n",
    "jména = pd.Series(['Jan', 'Anna', 'Petr', 'Tomáš', None, None, 'Marie', 'Pavel'])\n",
    "jména = jména.fillna('neznámé')\n",
    "print(jména)"
   ]
  },
  {
   "cell_type": "code",
   "execution_count": 26,
   "id": "d3e730f6-bc29-46c0-8cb4-ce08192ebd71",
   "metadata": {},
   "outputs": [
    {
     "name": "stdout",
     "output_type": "stream",
     "text": [
      "0    11.0\n",
      "1    14.0\n",
      "3    25.0\n",
      "dtype: float64\n"
     ]
    }
   ],
   "source": [
    "#nový seznam bez None\n",
    "čísla = pd.Series([11, 14, None, 25, None])\n",
    "čísla = čísla.dropna()\n",
    "print(čísla)"
   ]
  },
  {
   "cell_type": "code",
   "execution_count": 27,
   "id": "51b49fd3-0d62-48d4-bff8-e950f8e1a4d3",
   "metadata": {},
   "outputs": [
    {
     "name": "stdout",
     "output_type": "stream",
     "text": [
      "count       317.00\n",
      "mean     325618.03\n",
      "std      136019.36\n",
      "min      106314.00\n",
      "25%      229841.00\n",
      "50%      306885.00\n",
      "75%      390671.00\n",
      "max     1226545.00\n",
      "Name: May 2024, dtype: float64\n"
     ]
    }
   ],
   "source": [
    "#Anglie\n",
    "import pandas as pd\n",
    "import csv\n",
    "\n",
    "path = \"England-annual-price-change-by-local-authority-2024-05.csv\"\n",
    "sniffer = csv.Sniffer()\n",
    "custom_delimiter = sniffer.sniff(open(path).readline().rstrip()).delimiter\n",
    "df = pd.read_csv(path, delimiter=custom_delimiter)\n",
    "\n",
    "price_series = df['May 2024']\n",
    "pd.set_option('display.float_format', '{:.2f}'.format)\n",
    "print(price_series.describe())"
   ]
  },
  {
   "cell_type": "markdown",
   "id": "dd7ac8c8-175a-46ce-91da-6990f1253c30",
   "metadata": {},
   "source": [
    "SET"
   ]
  },
  {
   "cell_type": "code",
   "execution_count": 28,
   "id": "9e1da700-b437-4380-91c5-a6ac9f61dee1",
   "metadata": {},
   "outputs": [
    {
     "name": "stdout",
     "output_type": "stream",
     "text": [
      "{'c', 'd', 'a', 'b'}\n"
     ]
    }
   ],
   "source": [
    "hodnoty = ['a', 'b', 'c', 'a', 'd', 'b']\n",
    "unikatni_hodnoty = set(hodnoty)\n",
    "print(unikatni_hodnoty)"
   ]
  },
  {
   "cell_type": "code",
   "execution_count": 29,
   "id": "a8fb89d8-a1ae-498e-925b-d5a1cce54200",
   "metadata": {},
   "outputs": [
    {
     "name": "stdout",
     "output_type": "stream",
     "text": [
      "{'Anna', 'Petr'}\n",
      "{'Anna', 'Tomáš', 'Eva', 'Pavel', 'Jan', 'Petr'}\n",
      "{'Jan', 'Tomáš'}\n",
      "{'Tomáš', 'Pavel', 'Jan', 'Eva'}\n"
     ]
    }
   ],
   "source": [
    "byli_v_kině = {'Jan', 'Anna', 'Petr', 'Tomáš'}\n",
    "byli_v_restauraci = {'Petr', 'Eva', 'Anna', 'Pavel'}\n",
    "\n",
    "print(byli_v_kině & byli_v_restauraci)  # Průnik\n",
    "print(byli_v_kině | byli_v_restauraci)  # Sjednocení\n",
    "print(byli_v_kině - byli_v_restauraci)  # Rozdíl\n",
    "print(byli_v_kině ^ byli_v_restauraci)  # Symetrický rozdíl"
   ]
  },
  {
   "cell_type": "code",
   "execution_count": 30,
   "id": "03aa2767-5c63-4264-ba64-9bf155eb7da0",
   "metadata": {
    "scrolled": true
   },
   "outputs": [
    {
     "name": "stdout",
     "output_type": "stream",
     "text": [
      "True\n",
      "False\n"
     ]
    }
   ],
   "source": [
    "lidé  = {'Marie', 'Anna', 'Petr', 'Tomáš'}\n",
    "muži = {'Petr', 'Tomáš'}\n",
    "\n",
    "print(muži.issubset(lidé)) # Jsou muži podmnožinou lidí?\n",
    "print(muži.issuperset(lidé)) # Jsou muži nadmnožinou lidí?"
   ]
  },
  {
   "cell_type": "code",
   "execution_count": null,
   "id": "e4c1b88d-6319-480a-beff-f4308866bff6",
   "metadata": {},
   "outputs": [],
   "source": []
  }
 ],
 "metadata": {
  "kernelspec": {
   "display_name": "Python 3 (ipykernel)",
   "language": "python",
   "name": "python3"
  },
  "language_info": {
   "codemirror_mode": {
    "name": "ipython",
    "version": 3
   },
   "file_extension": ".py",
   "mimetype": "text/x-python",
   "name": "python",
   "nbconvert_exporter": "python",
   "pygments_lexer": "ipython3",
   "version": "3.11.0"
  }
 },
 "nbformat": 4,
 "nbformat_minor": 5
}
